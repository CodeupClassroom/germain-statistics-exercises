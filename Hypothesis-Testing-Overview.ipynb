{
 "cells": [
  {
   "cell_type": "markdown",
   "metadata": {},
   "source": [
    "# Welcome to Hypothesis Testing\n",
    "\n",
    "\n",
    "![Types of Stats](Stats-types.jpg)\n",
    "\n",
    "\n",
    "![descriptive-and-inferential-statistics](descriptive-and-inferential-statistics.jpeg)\n",
    "\n",
    "\n",
    "\n",
    "We will use some built-in datasets from the pydataset library to review and explore some concepts. \n",
    "\n",
    "1. How distributions help us make inferernces\n",
    "\n",
    "2. Sample vs. population\n",
    "\n",
    "3. Asking interesting and relevant questions of your data\n",
    "\n",
    "4. Ways to answer questions\n",
    "\n",
    "5. How Hypothesis testing helps us make inferences (In this lesson we will introduce some broad concepts related to hypothesis testing, and in future lessons we will look at examples of 3 types of hypothesis tests in detail.)\n",
    "\n",
    "6. Key terms in hypothesis testing\n",
    "\n",
    "\n",
    "In doing all of this, we will also practice transforming datasets using python, understanding the structure of an existing dataset and how it may differ from what you want, how to define an observation vs. a row. \n",
    "\n",
    "So, let's get to it...\n",
    "\n",
    "__________________________________________________\n",
    "\n",
    "## Data Wrangling\n",
    "\n",
    "First, we need data. In this lesson, instead of generating random data, we will use data from the pydataset library which contains 756 datasets available for use. \n",
    "As you will soon get used to, every data science project starts with prject planning followed by acquiring and preparing data, a.k.a. wrangling the data. One non-negotiable to having prepared data ready to explore is that each row represents an observation. Let's take an example. "
   ]
  },
  {
   "cell_type": "code",
   "execution_count": 94,
   "metadata": {},
   "outputs": [],
   "source": [
    "# Using open datasets from pydataset\n",
    "from pydataset import data\n",
    "\n",
    "import pandas as pd\n",
    "import numpy as np\n",
    "\n",
    "from scipy import stats\n",
    "\n",
    "import matplotlib.pyplot as plt"
   ]
  },
  {
   "cell_type": "code",
   "execution_count": 95,
   "metadata": {},
   "outputs": [
    {
     "data": {
      "text/html": [
       "<div>\n",
       "<style scoped>\n",
       "    .dataframe tbody tr th:only-of-type {\n",
       "        vertical-align: middle;\n",
       "    }\n",
       "\n",
       "    .dataframe tbody tr th {\n",
       "        vertical-align: top;\n",
       "    }\n",
       "\n",
       "    .dataframe thead th {\n",
       "        text-align: right;\n",
       "    }\n",
       "</style>\n",
       "<table border=\"1\" class=\"dataframe\">\n",
       "  <thead>\n",
       "    <tr style=\"text-align: right;\">\n",
       "      <th></th>\n",
       "      <th>dataset_id</th>\n",
       "      <th>title</th>\n",
       "    </tr>\n",
       "  </thead>\n",
       "  <tbody>\n",
       "    <tr>\n",
       "      <th>0</th>\n",
       "      <td>AirPassengers</td>\n",
       "      <td>Monthly Airline Passenger Numbers 1949-1960</td>\n",
       "    </tr>\n",
       "    <tr>\n",
       "      <th>1</th>\n",
       "      <td>BJsales</td>\n",
       "      <td>Sales Data with Leading Indicator</td>\n",
       "    </tr>\n",
       "    <tr>\n",
       "      <th>2</th>\n",
       "      <td>BOD</td>\n",
       "      <td>Biochemical Oxygen Demand</td>\n",
       "    </tr>\n",
       "    <tr>\n",
       "      <th>3</th>\n",
       "      <td>Formaldehyde</td>\n",
       "      <td>Determination of Formaldehyde</td>\n",
       "    </tr>\n",
       "    <tr>\n",
       "      <th>4</th>\n",
       "      <td>HairEyeColor</td>\n",
       "      <td>Hair and Eye Color of Statistics Students</td>\n",
       "    </tr>\n",
       "    <tr>\n",
       "      <th>...</th>\n",
       "      <td>...</td>\n",
       "      <td>...</td>\n",
       "    </tr>\n",
       "    <tr>\n",
       "      <th>752</th>\n",
       "      <td>VerbAgg</td>\n",
       "      <td>Verbal Aggression item responses</td>\n",
       "    </tr>\n",
       "    <tr>\n",
       "      <th>753</th>\n",
       "      <td>cake</td>\n",
       "      <td>Breakage Angle of Chocolate Cakes</td>\n",
       "    </tr>\n",
       "    <tr>\n",
       "      <th>754</th>\n",
       "      <td>cbpp</td>\n",
       "      <td>Contagious bovine pleuropneumonia</td>\n",
       "    </tr>\n",
       "    <tr>\n",
       "      <th>755</th>\n",
       "      <td>grouseticks</td>\n",
       "      <td>Data on red grouse ticks from Elston et al. 2001</td>\n",
       "    </tr>\n",
       "    <tr>\n",
       "      <th>756</th>\n",
       "      <td>sleepstudy</td>\n",
       "      <td>Reaction times in a sleep deprivation study</td>\n",
       "    </tr>\n",
       "  </tbody>\n",
       "</table>\n",
       "<p>757 rows × 2 columns</p>\n",
       "</div>"
      ],
      "text/plain": [
       "        dataset_id                                             title\n",
       "0    AirPassengers       Monthly Airline Passenger Numbers 1949-1960\n",
       "1          BJsales                 Sales Data with Leading Indicator\n",
       "2              BOD                         Biochemical Oxygen Demand\n",
       "3     Formaldehyde                     Determination of Formaldehyde\n",
       "4     HairEyeColor         Hair and Eye Color of Statistics Students\n",
       "..             ...                                               ...\n",
       "752        VerbAgg                  Verbal Aggression item responses\n",
       "753           cake                 Breakage Angle of Chocolate Cakes\n",
       "754           cbpp                 Contagious bovine pleuropneumonia\n",
       "755    grouseticks  Data on red grouse ticks from Elston et al. 2001\n",
       "756     sleepstudy       Reaction times in a sleep deprivation study\n",
       "\n",
       "[757 rows x 2 columns]"
      ]
     },
     "execution_count": 95,
     "metadata": {},
     "output_type": "execute_result"
    }
   ],
   "source": [
    "# take a look at available datasets \n",
    "data()"
   ]
  },
  {
   "cell_type": "markdown",
   "metadata": {},
   "source": [
    "We are going to use the **HairEyeColor** dataset. "
   ]
  },
  {
   "cell_type": "code",
   "execution_count": 96,
   "metadata": {},
   "outputs": [
    {
     "data": {
      "text/plain": [
       "dataset_id                                 HairEyeColor\n",
       "title         Hair and Eye Color of Statistics Students\n",
       "Name: 4, dtype: object"
      ]
     },
     "execution_count": 96,
     "metadata": {},
     "output_type": "execute_result"
    }
   ],
   "source": [
    "# Extract just the row that contains the HairEyeColor dataset using iloc\n",
    "data().iloc[4]"
   ]
  },
  {
   "cell_type": "markdown",
   "metadata": {},
   "source": [
    "Ok, We are told this dataset contains information about Hair and Eye color of a group of statistics students. \n",
    "Let's take a look. "
   ]
  },
  {
   "cell_type": "code",
   "execution_count": 97,
   "metadata": {},
   "outputs": [],
   "source": [
    "# store that data in a dataframe named df\n",
    "df = data('HairEyeColor')"
   ]
  },
  {
   "cell_type": "code",
   "execution_count": 98,
   "metadata": {},
   "outputs": [
    {
     "data": {
      "text/plain": [
       "(32, 4)"
      ]
     },
     "execution_count": 98,
     "metadata": {},
     "output_type": "execute_result"
    }
   ],
   "source": [
    "# look at the numbers of rows and columns\n",
    "df.shape"
   ]
  },
  {
   "cell_type": "code",
   "execution_count": 99,
   "metadata": {},
   "outputs": [
    {
     "data": {
      "text/html": [
       "<div>\n",
       "<style scoped>\n",
       "    .dataframe tbody tr th:only-of-type {\n",
       "        vertical-align: middle;\n",
       "    }\n",
       "\n",
       "    .dataframe tbody tr th {\n",
       "        vertical-align: top;\n",
       "    }\n",
       "\n",
       "    .dataframe thead th {\n",
       "        text-align: right;\n",
       "    }\n",
       "</style>\n",
       "<table border=\"1\" class=\"dataframe\">\n",
       "  <thead>\n",
       "    <tr style=\"text-align: right;\">\n",
       "      <th></th>\n",
       "      <th>Hair</th>\n",
       "      <th>Eye</th>\n",
       "      <th>Sex</th>\n",
       "      <th>Freq</th>\n",
       "    </tr>\n",
       "  </thead>\n",
       "  <tbody>\n",
       "    <tr>\n",
       "      <th>1</th>\n",
       "      <td>Black</td>\n",
       "      <td>Brown</td>\n",
       "      <td>Male</td>\n",
       "      <td>32</td>\n",
       "    </tr>\n",
       "    <tr>\n",
       "      <th>2</th>\n",
       "      <td>Brown</td>\n",
       "      <td>Brown</td>\n",
       "      <td>Male</td>\n",
       "      <td>53</td>\n",
       "    </tr>\n",
       "    <tr>\n",
       "      <th>3</th>\n",
       "      <td>Red</td>\n",
       "      <td>Brown</td>\n",
       "      <td>Male</td>\n",
       "      <td>10</td>\n",
       "    </tr>\n",
       "    <tr>\n",
       "      <th>4</th>\n",
       "      <td>Blond</td>\n",
       "      <td>Brown</td>\n",
       "      <td>Male</td>\n",
       "      <td>3</td>\n",
       "    </tr>\n",
       "    <tr>\n",
       "      <th>5</th>\n",
       "      <td>Black</td>\n",
       "      <td>Blue</td>\n",
       "      <td>Male</td>\n",
       "      <td>11</td>\n",
       "    </tr>\n",
       "  </tbody>\n",
       "</table>\n",
       "</div>"
      ],
      "text/plain": [
       "    Hair    Eye   Sex  Freq\n",
       "1  Black  Brown  Male    32\n",
       "2  Brown  Brown  Male    53\n",
       "3    Red  Brown  Male    10\n",
       "4  Blond  Brown  Male     3\n",
       "5  Black   Blue  Male    11"
      ]
     },
     "execution_count": 99,
     "metadata": {},
     "output_type": "execute_result"
    }
   ],
   "source": [
    "# look at the first 5 rows\n",
    "df.head()"
   ]
  },
  {
   "cell_type": "markdown",
   "metadata": {},
   "source": [
    "**Question:** \n",
    "\n",
    "What do you notice about the structure of this dataset?\n",
    "\n",
    "It's already aggregated!\n",
    "_____________________________________________"
   ]
  },
  {
   "cell_type": "markdown",
   "metadata": {},
   "source": [
    "**Question:** \n",
    "\n",
    "If we take a look at a single row, what/who does it represent? "
   ]
  },
  {
   "cell_type": "code",
   "execution_count": 100,
   "metadata": {},
   "outputs": [
    {
     "data": {
      "text/plain": [
       "Hair    Black\n",
       "Eye     Brown\n",
       "Sex      Male\n",
       "Freq       32\n",
       "Name: 1, dtype: object"
      ]
     },
     "execution_count": 100,
     "metadata": {},
     "output_type": "execute_result"
    }
   ],
   "source": [
    "# write the code to view a single row\n",
    "\n",
    "df.iloc[0]"
   ]
  },
  {
   "cell_type": "code",
   "execution_count": 101,
   "metadata": {},
   "outputs": [
    {
     "data": {
      "text/plain": [
       "32"
      ]
     },
     "execution_count": 101,
     "metadata": {},
     "output_type": "execute_result"
    }
   ],
   "source": [
    "# is each row \"REALLY\" a unique combination or are there any duplicates? \n",
    "df.groupby(['Hair', 'Eye', 'Sex']).count()['Freq'].sum()"
   ]
  },
  {
   "cell_type": "code",
   "execution_count": 102,
   "metadata": {},
   "outputs": [
    {
     "data": {
      "text/plain": [
       "Freq    32\n",
       "dtype: int64"
      ]
     },
     "execution_count": 102,
     "metadata": {},
     "output_type": "execute_result"
    }
   ],
   "source": [
    "df.groupby(['Hair', 'Eye', 'Sex']).nunique().sum()"
   ]
  },
  {
   "cell_type": "markdown",
   "metadata": {},
   "source": [
    "____________________________________________\n",
    "\n",
    "\n",
    "Our data has been aggregated! UGH! I *strongly dislike* starting with aggregated data, as a data scientist :=| It limits what I can find out. \n",
    "\n",
    "I want my data in the form where one row represents one observation. \n",
    "\n",
    "\n",
    "**Question:**\n",
    "\n",
    "In this scenario, based on the description of the dataset, a single observation should be what?  \n",
    "\n",
    "A single statistic student!\n",
    "___________________________________________\n"
   ]
  },
  {
   "cell_type": "code",
   "execution_count": 107,
   "metadata": {},
   "outputs": [
    {
     "data": {
      "text/html": [
       "<div>\n",
       "<style scoped>\n",
       "    .dataframe tbody tr th:only-of-type {\n",
       "        vertical-align: middle;\n",
       "    }\n",
       "\n",
       "    .dataframe tbody tr th {\n",
       "        vertical-align: top;\n",
       "    }\n",
       "\n",
       "    .dataframe thead th {\n",
       "        text-align: right;\n",
       "    }\n",
       "</style>\n",
       "<table border=\"1\" class=\"dataframe\">\n",
       "  <thead>\n",
       "    <tr style=\"text-align: right;\">\n",
       "      <th></th>\n",
       "      <th>Hair</th>\n",
       "      <th>Eye</th>\n",
       "      <th>Sex</th>\n",
       "      <th>Freq</th>\n",
       "    </tr>\n",
       "  </thead>\n",
       "  <tbody>\n",
       "    <tr>\n",
       "      <th>0</th>\n",
       "      <td>Black</td>\n",
       "      <td>Brown</td>\n",
       "      <td>Male</td>\n",
       "      <td>32</td>\n",
       "    </tr>\n",
       "    <tr>\n",
       "      <th>1</th>\n",
       "      <td>Black</td>\n",
       "      <td>Brown</td>\n",
       "      <td>Male</td>\n",
       "      <td>32</td>\n",
       "    </tr>\n",
       "    <tr>\n",
       "      <th>2</th>\n",
       "      <td>Black</td>\n",
       "      <td>Brown</td>\n",
       "      <td>Male</td>\n",
       "      <td>32</td>\n",
       "    </tr>\n",
       "    <tr>\n",
       "      <th>3</th>\n",
       "      <td>Black</td>\n",
       "      <td>Brown</td>\n",
       "      <td>Male</td>\n",
       "      <td>32</td>\n",
       "    </tr>\n",
       "    <tr>\n",
       "      <th>4</th>\n",
       "      <td>Black</td>\n",
       "      <td>Brown</td>\n",
       "      <td>Male</td>\n",
       "      <td>32</td>\n",
       "    </tr>\n",
       "    <tr>\n",
       "      <th>...</th>\n",
       "      <td>...</td>\n",
       "      <td>...</td>\n",
       "      <td>...</td>\n",
       "      <td>...</td>\n",
       "    </tr>\n",
       "    <tr>\n",
       "      <th>587</th>\n",
       "      <td>Blond</td>\n",
       "      <td>Green</td>\n",
       "      <td>Female</td>\n",
       "      <td>8</td>\n",
       "    </tr>\n",
       "    <tr>\n",
       "      <th>588</th>\n",
       "      <td>Blond</td>\n",
       "      <td>Green</td>\n",
       "      <td>Female</td>\n",
       "      <td>8</td>\n",
       "    </tr>\n",
       "    <tr>\n",
       "      <th>589</th>\n",
       "      <td>Blond</td>\n",
       "      <td>Green</td>\n",
       "      <td>Female</td>\n",
       "      <td>8</td>\n",
       "    </tr>\n",
       "    <tr>\n",
       "      <th>590</th>\n",
       "      <td>Blond</td>\n",
       "      <td>Green</td>\n",
       "      <td>Female</td>\n",
       "      <td>8</td>\n",
       "    </tr>\n",
       "    <tr>\n",
       "      <th>591</th>\n",
       "      <td>Blond</td>\n",
       "      <td>Green</td>\n",
       "      <td>Female</td>\n",
       "      <td>8</td>\n",
       "    </tr>\n",
       "  </tbody>\n",
       "</table>\n",
       "<p>592 rows × 4 columns</p>\n",
       "</div>"
      ],
      "text/plain": [
       "      Hair    Eye     Sex  Freq\n",
       "0    Black  Brown    Male    32\n",
       "1    Black  Brown    Male    32\n",
       "2    Black  Brown    Male    32\n",
       "3    Black  Brown    Male    32\n",
       "4    Black  Brown    Male    32\n",
       "..     ...    ...     ...   ...\n",
       "587  Blond  Green  Female     8\n",
       "588  Blond  Green  Female     8\n",
       "589  Blond  Green  Female     8\n",
       "590  Blond  Green  Female     8\n",
       "591  Blond  Green  Female     8\n",
       "\n",
       "[592 rows x 4 columns]"
      ]
     },
     "execution_count": 107,
     "metadata": {},
     "output_type": "execute_result"
    }
   ],
   "source": [
    "# the very slick and simple way of doing what we are going to do in a loop below...\n",
    "df.loc[df.index.repeat(df.Freq)].reset_index(drop=True)"
   ]
  },
  {
   "cell_type": "code",
   "execution_count": 93,
   "metadata": {},
   "outputs": [
    {
     "data": {
      "text/plain": [
       "Hair      True\n",
       "Eye       True\n",
       "Sex       True\n",
       "Freq      True\n",
       "traits    True\n",
       "Name: 1, dtype: bool"
      ]
     },
     "execution_count": 93,
     "metadata": {},
     "output_type": "execute_result"
    }
   ],
   "source": [
    "df.loc[1] == df.iloc[0]"
   ]
  },
  {
   "cell_type": "markdown",
   "metadata": {},
   "source": [
    "So, let's stretch this data out, so that each row represents a single student. \n",
    "\n",
    "To do so, we need to ... \n",
    "\n",
    "1. repeat each row by the frequency. \n",
    "\n",
    "2. remove the frequency column. \n",
    "\n",
    "We should end up the same number of rows as the total number of students represented, because...\n",
    "\n",
    "EACH ROW IS AN OBSERVATION AND EACH OBSERVATION IS A STUDENT. \n",
    "\n",
    "\n",
    "**Question:**\n",
    "\n",
    "So, how can I compute how many rows we will end up with? Or how many students were surveyed?\n",
    "\n",
    "If you need to take another peek at the data, go for it! `df.head()` is a quick and easy way. \n",
    "\n",
    "**Answer:**"
   ]
  },
  {
   "cell_type": "code",
   "execution_count": 59,
   "metadata": {},
   "outputs": [
    {
     "data": {
      "text/plain": [
       "592"
      ]
     },
     "execution_count": 59,
     "metadata": {},
     "output_type": "execute_result"
    }
   ],
   "source": [
    "# write code to compute how many students are represented in this dataset. \n",
    "\n",
    "df.Freq.sum()"
   ]
  },
  {
   "cell_type": "markdown",
   "metadata": {},
   "source": [
    "Cool, so we are looking to end up with that many rows\n",
    "\n",
    "___________________________________________\n",
    "_______________________________________\n",
    "\n",
    "To get there, we will want to repeat each combination of `Hair`, `Eye`, & `Sex` the number of times represented in the `Freq` field. We can get there in the following way:  \n",
    "\n",
    "1. Create a single column that concatenates Hair, Eye & Sex\n",
    "\n",
    "2. For the first unique combination of Hair, Eye & Sex, i.e. the first row which is Black, Brown, and Male, create a list that repeats that combination 32 times, which is the `Freq` value. \n",
    "\n",
    "3. We want to do that for each row, so once we made it work for one, we will do row two and make sure we can concatenate them, THEN we will put it in a loop to work for all. \n",
    "\n",
    "_______________________________________\n"
   ]
  },
  {
   "cell_type": "markdown",
   "metadata": {},
   "source": [
    "> 1. Create a single column that concatenates Hair, Eye & Sex"
   ]
  },
  {
   "cell_type": "code",
   "execution_count": 60,
   "metadata": {},
   "outputs": [
    {
     "data": {
      "text/html": [
       "<div>\n",
       "<style scoped>\n",
       "    .dataframe tbody tr th:only-of-type {\n",
       "        vertical-align: middle;\n",
       "    }\n",
       "\n",
       "    .dataframe tbody tr th {\n",
       "        vertical-align: top;\n",
       "    }\n",
       "\n",
       "    .dataframe thead th {\n",
       "        text-align: right;\n",
       "    }\n",
       "</style>\n",
       "<table border=\"1\" class=\"dataframe\">\n",
       "  <thead>\n",
       "    <tr style=\"text-align: right;\">\n",
       "      <th></th>\n",
       "      <th>Hair</th>\n",
       "      <th>Eye</th>\n",
       "      <th>Sex</th>\n",
       "      <th>Freq</th>\n",
       "      <th>traits</th>\n",
       "    </tr>\n",
       "  </thead>\n",
       "  <tbody>\n",
       "    <tr>\n",
       "      <th>1</th>\n",
       "      <td>Black</td>\n",
       "      <td>Brown</td>\n",
       "      <td>Male</td>\n",
       "      <td>32</td>\n",
       "      <td>Black, Brown, Male</td>\n",
       "    </tr>\n",
       "    <tr>\n",
       "      <th>2</th>\n",
       "      <td>Brown</td>\n",
       "      <td>Brown</td>\n",
       "      <td>Male</td>\n",
       "      <td>53</td>\n",
       "      <td>Brown, Brown, Male</td>\n",
       "    </tr>\n",
       "  </tbody>\n",
       "</table>\n",
       "</div>"
      ],
      "text/plain": [
       "    Hair    Eye   Sex  Freq              traits\n",
       "1  Black  Brown  Male    32  Black, Brown, Male\n",
       "2  Brown  Brown  Male    53  Brown, Brown, Male"
      ]
     },
     "execution_count": 60,
     "metadata": {},
     "output_type": "execute_result"
    }
   ],
   "source": [
    "# concatenating using '+' with strings\n",
    "\n",
    "df['traits'] = df.Hair + \", \" + df.Eye + \", \" + df.Sex\n",
    "df.head(2)"
   ]
  },
  {
   "cell_type": "markdown",
   "metadata": {},
   "source": [
    "> 2. Create a list from the first row, which is Black, Brown, and Male, that repeats that combination 32 times. "
   ]
  },
  {
   "cell_type": "code",
   "execution_count": 17,
   "metadata": {},
   "outputs": [
    {
     "data": {
      "text/html": [
       "<div>\n",
       "<style scoped>\n",
       "    .dataframe tbody tr th:only-of-type {\n",
       "        vertical-align: middle;\n",
       "    }\n",
       "\n",
       "    .dataframe tbody tr th {\n",
       "        vertical-align: top;\n",
       "    }\n",
       "\n",
       "    .dataframe thead th {\n",
       "        text-align: right;\n",
       "    }\n",
       "</style>\n",
       "<table border=\"1\" class=\"dataframe\">\n",
       "  <thead>\n",
       "    <tr style=\"text-align: right;\">\n",
       "      <th></th>\n",
       "      <th>Hair</th>\n",
       "      <th>Eye</th>\n",
       "      <th>Sex</th>\n",
       "      <th>Freq</th>\n",
       "      <th>traits</th>\n",
       "    </tr>\n",
       "  </thead>\n",
       "  <tbody>\n",
       "    <tr>\n",
       "      <th>1</th>\n",
       "      <td>Black</td>\n",
       "      <td>Brown</td>\n",
       "      <td>Male</td>\n",
       "      <td>32</td>\n",
       "      <td>Black, Brown, Male</td>\n",
       "    </tr>\n",
       "  </tbody>\n",
       "</table>\n",
       "</div>"
      ],
      "text/plain": [
       "    Hair    Eye   Sex  Freq              traits\n",
       "1  Black  Brown  Male    32  Black, Brown, Male"
      ]
     },
     "execution_count": 17,
     "metadata": {},
     "output_type": "execute_result"
    }
   ],
   "source": [
    "# take a look at the first row\n",
    "df.head(1)"
   ]
  },
  {
   "cell_type": "code",
   "execution_count": 61,
   "metadata": {},
   "outputs": [
    {
     "data": {
      "text/plain": [
       "'Black, Brown, Male'"
      ]
     },
     "execution_count": 61,
     "metadata": {},
     "output_type": "execute_result"
    }
   ],
   "source": [
    "# extract what we want to repeat: the contents in the traits column\n",
    "traits = df.traits.iloc[0]\n",
    "traits"
   ]
  },
  {
   "cell_type": "code",
   "execution_count": 62,
   "metadata": {},
   "outputs": [
    {
     "data": {
      "text/plain": [
       "32"
      ]
     },
     "execution_count": 62,
     "metadata": {},
     "output_type": "execute_result"
    }
   ],
   "source": [
    "# extract how many times we want to repeat...the value in the Freq column\n",
    "freq = df.Freq.iloc[0]\n",
    "freq"
   ]
  },
  {
   "cell_type": "code",
   "execution_count": 63,
   "metadata": {},
   "outputs": [
    {
     "data": {
      "text/plain": [
       "array(['Black, Brown, Male', 'Black, Brown, Male', 'Black, Brown, Male',\n",
       "       'Black, Brown, Male', 'Black, Brown, Male', 'Black, Brown, Male',\n",
       "       'Black, Brown, Male', 'Black, Brown, Male', 'Black, Brown, Male',\n",
       "       'Black, Brown, Male', 'Black, Brown, Male', 'Black, Brown, Male',\n",
       "       'Black, Brown, Male', 'Black, Brown, Male', 'Black, Brown, Male',\n",
       "       'Black, Brown, Male', 'Black, Brown, Male', 'Black, Brown, Male',\n",
       "       'Black, Brown, Male', 'Black, Brown, Male', 'Black, Brown, Male',\n",
       "       'Black, Brown, Male', 'Black, Brown, Male', 'Black, Brown, Male',\n",
       "       'Black, Brown, Male', 'Black, Brown, Male', 'Black, Brown, Male',\n",
       "       'Black, Brown, Male', 'Black, Brown, Male', 'Black, Brown, Male',\n",
       "       'Black, Brown, Male', 'Black, Brown, Male'], dtype='<U18')"
      ]
     },
     "execution_count": 63,
     "metadata": {},
     "output_type": "execute_result"
    }
   ],
   "source": [
    "# use np.repeat to repeat `trait` `Freq` times.\n",
    "traits_by_freq = np.repeat(df.traits.iloc[0], df.Freq.iloc[0])\n",
    "traits_by_freq"
   ]
  },
  {
   "cell_type": "code",
   "execution_count": 65,
   "metadata": {},
   "outputs": [
    {
     "data": {
      "text/plain": [
       "['Black, Brown, Male',\n",
       " 'Black, Brown, Male',\n",
       " 'Black, Brown, Male',\n",
       " 'Black, Brown, Male',\n",
       " 'Black, Brown, Male']"
      ]
     },
     "execution_count": 65,
     "metadata": {},
     "output_type": "execute_result"
    }
   ],
   "source": [
    "# Finally, we need that array to be a list\n",
    "row1_observations = list(traits_by_freq)\n",
    "row1_observations[0:5]"
   ]
  },
  {
   "cell_type": "code",
   "execution_count": 67,
   "metadata": {},
   "outputs": [
    {
     "name": "stdout",
     "output_type": "stream",
     "text": [
      "First original row:\n",
      " Hair                   Black\n",
      "Eye                    Brown\n",
      "Sex                     Male\n",
      "Freq                      32\n",
      "traits    Black, Brown, Male\n",
      "Name: 1, dtype: object\n",
      "\n",
      "Number of observations/students:\n",
      " 32\n",
      "\n",
      "First 5 observations:\n",
      " ['Black, Brown, Male', 'Black, Brown, Male', 'Black, Brown, Male', 'Black, Brown, Male', 'Black, Brown, Male']\n"
     ]
    },
    {
     "data": {
      "text/plain": [
       "32"
      ]
     },
     "execution_count": 67,
     "metadata": {},
     "output_type": "execute_result"
    }
   ],
   "source": [
    "# pulling that all together...\n",
    "\n",
    "row1_obs = list(np.repeat(df.traits.iloc[0], df.Freq.iloc[0]))\n",
    "\n",
    "print(\"First original row:\\n\", df.iloc[0])\n",
    "print(\"\\nNumber of observations/students:\\n\",len(row1_obs))\n",
    "print(\"\\nFirst 5 observations:\\n\", row1_obs[0:5])\n",
    "len(row1_obs)"
   ]
  },
  {
   "cell_type": "markdown",
   "metadata": {},
   "source": [
    "> 3. We want to do that for each row, so let's make sure it works for another row, concatenate them, and then write a loop to do that for all the rows. "
   ]
  },
  {
   "cell_type": "code",
   "execution_count": 68,
   "metadata": {},
   "outputs": [
    {
     "name": "stdout",
     "output_type": "stream",
     "text": [
      "Second original row:\n",
      " Hair                   Brown\n",
      "Eye                    Brown\n",
      "Sex                     Male\n",
      "Freq                      53\n",
      "traits    Brown, Brown, Male\n",
      "Name: 2, dtype: object\n",
      "\n",
      "Number of observations/students:\n",
      " 53\n",
      "\n",
      "First 5 observations:\n",
      " ['Brown, Brown, Male', 'Brown, Brown, Male', 'Brown, Brown, Male', 'Brown, Brown, Male', 'Brown, Brown, Male']\n"
     ]
    },
    {
     "data": {
      "text/plain": [
       "53"
      ]
     },
     "execution_count": 68,
     "metadata": {},
     "output_type": "execute_result"
    }
   ],
   "source": [
    "row2_obs = list(np.repeat(df.traits.iloc[1], df.Freq.iloc[1]))\n",
    "\n",
    "\n",
    "print(\"Second original row:\\n\", df.iloc[1])\n",
    "print(\"\\nNumber of observations/students:\\n\",len(row2_obs))\n",
    "print(\"\\nFirst 5 observations:\\n\", row2_obs[0:5])"
   ]
  },
  {
   "cell_type": "code",
   "execution_count": 72,
   "metadata": {},
   "outputs": [
    {
     "data": {
      "text/plain": [
       "32"
      ]
     },
     "execution_count": 72,
     "metadata": {},
     "output_type": "execute_result"
    }
   ],
   "source": [
    "# concatenate observations from the first original row to the observations from the second\n",
    "# start with an empty list to hold all observations\n",
    "obs = []\n",
    "# add the first rows observations to the list\n",
    "\n",
    "# obs = obs + row1_obs\n",
    "\n",
    "obs += row1_obs\n",
    "\n",
    "len(obs)"
   ]
  },
  {
   "cell_type": "code",
   "execution_count": 70,
   "metadata": {},
   "outputs": [
    {
     "data": {
      "text/plain": [
       "['Black, Brown, Male',\n",
       " 'Black, Brown, Male',\n",
       " 'Black, Brown, Male',\n",
       " 'Black, Brown, Male',\n",
       " 'Black, Brown, Male',\n",
       " 'Black, Brown, Male',\n",
       " 'Black, Brown, Male',\n",
       " 'Black, Brown, Male',\n",
       " 'Black, Brown, Male',\n",
       " 'Black, Brown, Male',\n",
       " 'Black, Brown, Male',\n",
       " 'Black, Brown, Male',\n",
       " 'Black, Brown, Male',\n",
       " 'Black, Brown, Male',\n",
       " 'Black, Brown, Male',\n",
       " 'Black, Brown, Male',\n",
       " 'Black, Brown, Male',\n",
       " 'Black, Brown, Male',\n",
       " 'Black, Brown, Male',\n",
       " 'Black, Brown, Male',\n",
       " 'Black, Brown, Male',\n",
       " 'Black, Brown, Male',\n",
       " 'Black, Brown, Male',\n",
       " 'Black, Brown, Male',\n",
       " 'Black, Brown, Male',\n",
       " 'Black, Brown, Male',\n",
       " 'Black, Brown, Male',\n",
       " 'Black, Brown, Male',\n",
       " 'Black, Brown, Male',\n",
       " 'Black, Brown, Male',\n",
       " 'Black, Brown, Male',\n",
       " 'Black, Brown, Male']"
      ]
     },
     "execution_count": 70,
     "metadata": {},
     "output_type": "execute_result"
    }
   ],
   "source": [
    "obs"
   ]
  },
  {
   "cell_type": "code",
   "execution_count": 73,
   "metadata": {},
   "outputs": [
    {
     "name": "stdout",
     "output_type": "stream",
     "text": [
      "85\n"
     ]
    }
   ],
   "source": [
    "# add the second row's observations to the list\n",
    "# obs = obs + row2_obs\n",
    "obs += row2_obs\n",
    "\n",
    "print(len(obs))\n"
   ]
  },
  {
   "cell_type": "code",
   "execution_count": 78,
   "metadata": {},
   "outputs": [],
   "source": [
    "# for i in range(len(df)):\n",
    "#    print(i)"
   ]
  },
  {
   "cell_type": "code",
   "execution_count": 79,
   "metadata": {},
   "outputs": [],
   "source": [
    "# write the loop \n",
    "obs = []\n",
    "\n",
    "# go through all 32 rows\n",
    "for i in range(len(df)):\n",
    "    obs += list(np.repeat(df.traits.iloc[i], df.Freq.iloc[i]))"
   ]
  },
  {
   "cell_type": "code",
   "execution_count": 82,
   "metadata": {},
   "outputs": [
    {
     "data": {
      "text/plain": [
       "592"
      ]
     },
     "execution_count": 82,
     "metadata": {},
     "output_type": "execute_result"
    }
   ],
   "source": [
    "obs[200:210]\n",
    "len(obs)"
   ]
  },
  {
   "cell_type": "code",
   "execution_count": 83,
   "metadata": {},
   "outputs": [
    {
     "data": {
      "text/html": [
       "<div>\n",
       "<style scoped>\n",
       "    .dataframe tbody tr th:only-of-type {\n",
       "        vertical-align: middle;\n",
       "    }\n",
       "\n",
       "    .dataframe tbody tr th {\n",
       "        vertical-align: top;\n",
       "    }\n",
       "\n",
       "    .dataframe thead th {\n",
       "        text-align: right;\n",
       "    }\n",
       "</style>\n",
       "<table border=\"1\" class=\"dataframe\">\n",
       "  <thead>\n",
       "    <tr style=\"text-align: right;\">\n",
       "      <th></th>\n",
       "      <th>traits</th>\n",
       "    </tr>\n",
       "  </thead>\n",
       "  <tbody>\n",
       "    <tr>\n",
       "      <th>0</th>\n",
       "      <td>Black, Brown, Male</td>\n",
       "    </tr>\n",
       "    <tr>\n",
       "      <th>1</th>\n",
       "      <td>Black, Brown, Male</td>\n",
       "    </tr>\n",
       "    <tr>\n",
       "      <th>2</th>\n",
       "      <td>Black, Brown, Male</td>\n",
       "    </tr>\n",
       "  </tbody>\n",
       "</table>\n",
       "</div>"
      ],
      "text/plain": [
       "               traits\n",
       "0  Black, Brown, Male\n",
       "1  Black, Brown, Male\n",
       "2  Black, Brown, Male"
      ]
     },
     "execution_count": 83,
     "metadata": {},
     "output_type": "execute_result"
    }
   ],
   "source": [
    "# create a dataframe from the list. \n",
    "obs_df = pd.DataFrame({'traits': obs})\n",
    "obs_df.head(3)"
   ]
  },
  {
   "cell_type": "code",
   "execution_count": 84,
   "metadata": {},
   "outputs": [
    {
     "data": {
      "text/html": [
       "<div>\n",
       "<style scoped>\n",
       "    .dataframe tbody tr th:only-of-type {\n",
       "        vertical-align: middle;\n",
       "    }\n",
       "\n",
       "    .dataframe tbody tr th {\n",
       "        vertical-align: top;\n",
       "    }\n",
       "\n",
       "    .dataframe thead th {\n",
       "        text-align: right;\n",
       "    }\n",
       "</style>\n",
       "<table border=\"1\" class=\"dataframe\">\n",
       "  <thead>\n",
       "    <tr style=\"text-align: right;\">\n",
       "      <th></th>\n",
       "      <th>0</th>\n",
       "      <th>1</th>\n",
       "      <th>2</th>\n",
       "    </tr>\n",
       "  </thead>\n",
       "  <tbody>\n",
       "    <tr>\n",
       "      <th>0</th>\n",
       "      <td>Black</td>\n",
       "      <td>Brown</td>\n",
       "      <td>Male</td>\n",
       "    </tr>\n",
       "    <tr>\n",
       "      <th>1</th>\n",
       "      <td>Black</td>\n",
       "      <td>Brown</td>\n",
       "      <td>Male</td>\n",
       "    </tr>\n",
       "    <tr>\n",
       "      <th>2</th>\n",
       "      <td>Black</td>\n",
       "      <td>Brown</td>\n",
       "      <td>Male</td>\n",
       "    </tr>\n",
       "  </tbody>\n",
       "</table>\n",
       "</div>"
      ],
      "text/plain": [
       "       0      1     2\n",
       "0  Black  Brown  Male\n",
       "1  Black  Brown  Male\n",
       "2  Black  Brown  Male"
      ]
     },
     "execution_count": 84,
     "metadata": {},
     "output_type": "execute_result"
    }
   ],
   "source": [
    "# split the traits at the comma into 3 different columns (n=-1 means ALL, so I could put 3 here since I know there are 3)\n",
    "# expand = True means return to me a dataframe\n",
    "\n",
    "obs_df = obs_df['traits'].str.split(\", \", n=-1, expand=True)\n",
    "\n",
    "obs_df.head(3)"
   ]
  },
  {
   "cell_type": "code",
   "execution_count": 85,
   "metadata": {},
   "outputs": [
    {
     "data": {
      "text/html": [
       "<div>\n",
       "<style scoped>\n",
       "    .dataframe tbody tr th:only-of-type {\n",
       "        vertical-align: middle;\n",
       "    }\n",
       "\n",
       "    .dataframe tbody tr th {\n",
       "        vertical-align: top;\n",
       "    }\n",
       "\n",
       "    .dataframe thead th {\n",
       "        text-align: right;\n",
       "    }\n",
       "</style>\n",
       "<table border=\"1\" class=\"dataframe\">\n",
       "  <thead>\n",
       "    <tr style=\"text-align: right;\">\n",
       "      <th></th>\n",
       "      <th>hair</th>\n",
       "      <th>eye</th>\n",
       "      <th>sex</th>\n",
       "    </tr>\n",
       "  </thead>\n",
       "  <tbody>\n",
       "    <tr>\n",
       "      <th>0</th>\n",
       "      <td>Black</td>\n",
       "      <td>Brown</td>\n",
       "      <td>Male</td>\n",
       "    </tr>\n",
       "    <tr>\n",
       "      <th>1</th>\n",
       "      <td>Black</td>\n",
       "      <td>Brown</td>\n",
       "      <td>Male</td>\n",
       "    </tr>\n",
       "    <tr>\n",
       "      <th>2</th>\n",
       "      <td>Black</td>\n",
       "      <td>Brown</td>\n",
       "      <td>Male</td>\n",
       "    </tr>\n",
       "  </tbody>\n",
       "</table>\n",
       "</div>"
      ],
      "text/plain": [
       "    hair    eye   sex\n",
       "0  Black  Brown  Male\n",
       "1  Black  Brown  Male\n",
       "2  Black  Brown  Male"
      ]
     },
     "execution_count": 85,
     "metadata": {},
     "output_type": "execute_result"
    }
   ],
   "source": [
    "# give columns meaningful names\n",
    "obs_df.columns = ['hair', 'eye', 'sex']\n",
    "obs_df.head(3)"
   ]
  },
  {
   "cell_type": "code",
   "execution_count": 87,
   "metadata": {},
   "outputs": [
    {
     "data": {
      "text/html": [
       "<div>\n",
       "<style scoped>\n",
       "    .dataframe tbody tr th:only-of-type {\n",
       "        vertical-align: middle;\n",
       "    }\n",
       "\n",
       "    .dataframe tbody tr th {\n",
       "        vertical-align: top;\n",
       "    }\n",
       "\n",
       "    .dataframe thead th {\n",
       "        text-align: right;\n",
       "    }\n",
       "</style>\n",
       "<table border=\"1\" class=\"dataframe\">\n",
       "  <thead>\n",
       "    <tr style=\"text-align: right;\">\n",
       "      <th></th>\n",
       "      <th>hair</th>\n",
       "      <th>eye</th>\n",
       "      <th>sex</th>\n",
       "    </tr>\n",
       "  </thead>\n",
       "  <tbody>\n",
       "    <tr>\n",
       "      <th>0</th>\n",
       "      <td>Black</td>\n",
       "      <td>Brown</td>\n",
       "      <td>Male</td>\n",
       "    </tr>\n",
       "    <tr>\n",
       "      <th>1</th>\n",
       "      <td>Black</td>\n",
       "      <td>Brown</td>\n",
       "      <td>Male</td>\n",
       "    </tr>\n",
       "    <tr>\n",
       "      <th>2</th>\n",
       "      <td>Black</td>\n",
       "      <td>Brown</td>\n",
       "      <td>Male</td>\n",
       "    </tr>\n",
       "    <tr>\n",
       "      <th>3</th>\n",
       "      <td>Black</td>\n",
       "      <td>Brown</td>\n",
       "      <td>Male</td>\n",
       "    </tr>\n",
       "    <tr>\n",
       "      <th>4</th>\n",
       "      <td>Black</td>\n",
       "      <td>Brown</td>\n",
       "      <td>Male</td>\n",
       "    </tr>\n",
       "  </tbody>\n",
       "</table>\n",
       "</div>"
      ],
      "text/plain": [
       "    hair    eye   sex\n",
       "0  Black  Brown  Male\n",
       "1  Black  Brown  Male\n",
       "2  Black  Brown  Male\n",
       "3  Black  Brown  Male\n",
       "4  Black  Brown  Male"
      ]
     },
     "execution_count": 87,
     "metadata": {},
     "output_type": "execute_result"
    }
   ],
   "source": [
    "obs_df.head()"
   ]
  },
  {
   "cell_type": "code",
   "execution_count": 88,
   "metadata": {},
   "outputs": [
    {
     "data": {
      "text/plain": [
       "(592, 3)"
      ]
     },
     "execution_count": 88,
     "metadata": {},
     "output_type": "execute_result"
    }
   ],
   "source": [
    "obs_df.shape"
   ]
  },
  {
   "cell_type": "code",
   "execution_count": 108,
   "metadata": {},
   "outputs": [
    {
     "data": {
      "text/html": [
       "<div>\n",
       "<style scoped>\n",
       "    .dataframe tbody tr th:only-of-type {\n",
       "        vertical-align: middle;\n",
       "    }\n",
       "\n",
       "    .dataframe tbody tr th {\n",
       "        vertical-align: top;\n",
       "    }\n",
       "\n",
       "    .dataframe thead th {\n",
       "        text-align: right;\n",
       "    }\n",
       "</style>\n",
       "<table border=\"1\" class=\"dataframe\">\n",
       "  <thead>\n",
       "    <tr style=\"text-align: right;\">\n",
       "      <th></th>\n",
       "      <th>hair</th>\n",
       "      <th>eye</th>\n",
       "      <th>sex</th>\n",
       "    </tr>\n",
       "  </thead>\n",
       "  <tbody>\n",
       "    <tr>\n",
       "      <th>0</th>\n",
       "      <td>Black</td>\n",
       "      <td>Brown</td>\n",
       "      <td>Male</td>\n",
       "    </tr>\n",
       "    <tr>\n",
       "      <th>1</th>\n",
       "      <td>Black</td>\n",
       "      <td>Brown</td>\n",
       "      <td>Male</td>\n",
       "    </tr>\n",
       "    <tr>\n",
       "      <th>2</th>\n",
       "      <td>Black</td>\n",
       "      <td>Brown</td>\n",
       "      <td>Male</td>\n",
       "    </tr>\n",
       "    <tr>\n",
       "      <th>3</th>\n",
       "      <td>Black</td>\n",
       "      <td>Brown</td>\n",
       "      <td>Male</td>\n",
       "    </tr>\n",
       "    <tr>\n",
       "      <th>4</th>\n",
       "      <td>Black</td>\n",
       "      <td>Brown</td>\n",
       "      <td>Male</td>\n",
       "    </tr>\n",
       "  </tbody>\n",
       "</table>\n",
       "</div>"
      ],
      "text/plain": [
       "    hair    eye   sex\n",
       "0  Black  Brown  Male\n",
       "1  Black  Brown  Male\n",
       "2  Black  Brown  Male\n",
       "3  Black  Brown  Male\n",
       "4  Black  Brown  Male"
      ]
     },
     "execution_count": 108,
     "metadata": {},
     "output_type": "execute_result"
    }
   ],
   "source": [
    "obs_df.head()"
   ]
  },
  {
   "cell_type": "markdown",
   "metadata": {},
   "source": [
    "___________________________________________________\n",
    "__________________________________________________\n",
    "\n",
    "\n",
    "2. Sample vs. Population\n",
    "\n",
    "\n",
    "According to heffingtons, the estimated population proportion of blue eyes in the U.S. is 27%\n",
    "\n",
    "https://heffingtons.com/interesting-facts-about-eye-color/\n",
    "\n",
    "- Brown Eyes: 45%\n",
    "\n",
    "- Blue Eyes: 27%\n",
    "\n",
    "- Hazel Eyes: 18% (Note: Hazel eyes consist of shades of brown and green.)\n",
    "\n",
    "- Green Eyes: 9%\n",
    "\n",
    "- Other: 1%"
   ]
  },
  {
   "cell_type": "code",
   "execution_count": 110,
   "metadata": {},
   "outputs": [
    {
     "data": {
      "text/plain": [
       "0.36317567567567566"
      ]
     },
     "execution_count": 110,
     "metadata": {},
     "output_type": "execute_result"
    }
   ],
   "source": [
    "sum(obs_df.eye=='Blue')/len(obs_df)"
   ]
  },
  {
   "cell_type": "markdown",
   "metadata": {},
   "source": [
    "**Question:**\n",
    "\n",
    "What are some possible reasons why? \n",
    "\n",
    "- not large enough sample\n",
    "\n",
    "- sample probably from 1 location\n",
    "\n",
    "- self-selected to be in that stats class\n",
    "\n",
    "- demographic mis-representation\n",
    "\n",
    "- stats class in norway? \n",
    "\n",
    "- age of students? \n",
    "\n",
    "- self reported!\n"
   ]
  },
  {
   "cell_type": "markdown",
   "metadata": {},
   "source": [
    "\n",
    "This dataset claims to be a sample of statistics students. \n",
    "\n",
    "**Questions:**\n",
    "\n",
    "So is the population all statistics students? \n",
    "\n",
    "Across the world? \n",
    "\n",
    "All ages? \n",
    "\n",
    "Is it a representative sample of the population of all statistics students across the world of all ages? \n",
    "\n",
    "Or is it representative sample of the population of all people across the world of all ages? \n",
    "\n",
    "Or is it representative sample of the population of all people in the US of all ages? \n",
    "\n",
    "Or is it representative sample of the population of all statistics students in the US of all ages? \n",
    "\n",
    "Or is it representative sample of the population of all statistics students in the US of all ages? \n",
    "\n",
    "Or ...\n",
    "\n",
    "\n",
    "_________________________________________________________\n",
    "\n",
    "\n",
    "Hypothesis testing can help us answer these questions as well as many others. \n"
   ]
  },
  {
   "cell_type": "code",
   "execution_count": 111,
   "metadata": {},
   "outputs": [
    {
     "data": {
      "text/plain": [
       "1.6139788863189115e-07"
      ]
     },
     "execution_count": 111,
     "metadata": {},
     "output_type": "execute_result"
    }
   ],
   "source": [
    "stats.binom(592, .27).pmf(215)"
   ]
  },
  {
   "cell_type": "code",
   "execution_count": 114,
   "metadata": {},
   "outputs": [
    {
     "data": {
      "text/plain": [
       "Text(215, 0.01, '$P(X=215) = 0.0000001614$')"
      ]
     },
     "execution_count": 114,
     "metadata": {},
     "output_type": "execute_result"
    },
    {
     "data": {
      "image/png": "[encoded data removed]",
      "text/plain": [
       "<Figure size 1152x432 with 1 Axes>"
      ]
     },
     "metadata": {
      "needs_background": "light"
     },
     "output_type": "display_data"
    }
   ],
   "source": [
    "plt.figure(figsize=(16,6))\n",
    "x = np.arange(1, 300)\n",
    "y = stats.binom(592, .27).pmf(x)\n",
    "plt.bar(x, y, width=1, color='green')\n",
    "\n",
    "plt.bar(215, stats.binom(592, .27).pmf(215), width=3, color='orange')\n",
    "\n",
    "plt.title('binomial distribution for n=592 p=.27')\n",
    "plt.xlabel('x')\n",
    "plt.ylabel('pmf(x)')\n",
    "\n",
    "plt.annotate('$P(X=215) = {:.10f}$'.format(stats.binom(592, .27).pmf(215)),\n",
    "             (215, stats.binom(592, .27).pmf(215)), xytext=(215, .010), \n",
    "             arrowprops={'arrowstyle': '->'})"
   ]
  },
  {
   "cell_type": "markdown",
   "metadata": {},
   "source": [
    "## Ways to answer questions that we will practice throughout your time here:\n",
    "\n",
    "1. data visualization \n",
    "\n",
    "2. hypothesis testing\n",
    "\n",
    "3. machine learning\n",
    "\n",
    "4. Saying I don't know, but I will try to find out. \n",
    "\n",
    "\n",
    "Ways that we will not cover:\n",
    "\n",
    "1. pulling it out of your arse\n",
    "\n",
    "2. using statistics to give you the answer you want. \n",
    "\n",
    "3. selecting biased samples to prove your point. \n",
    "\n"
   ]
  },
  {
   "cell_type": "code",
   "execution_count": 115,
   "metadata": {},
   "outputs": [
    {
     "data": {
      "image/png": "[encoded data removed]",
      "text/plain": [
       "<Figure size 1152x720 with 2 Axes>"
      ]
     },
     "metadata": {
      "needs_background": "light"
     },
     "output_type": "display_data"
    }
   ],
   "source": [
    "\n",
    "plt.figure(figsize=(16,10))\n",
    "plt.suptitle('There are more blue eyes in our sample than in the population.\\n Is this by chance? Or does our sample come from a different population?\\n', \n",
    "            size=18)\n",
    "\n",
    "plt.subplot(1, 2, 1)\n",
    "x = stats.binom.rvs(size=592, p=.27, n=1)\n",
    "sample = stats.binom.rvs(size=592, p=.36, n=1)\n",
    "plt.hist(x, width=1, bins=range(3), edgecolor='black', color='teal', alpha=1, align='left')\n",
    "x_ticks = [0, 1]\n",
    "x_labels = ['Other Colored Eyes', 'Blue Eyes']\n",
    "plt.title('Population: US Residents')\n",
    "plt.axhline(y=.27*592, color=\"lightgray\")\n",
    "y_ticks = [0,160, 215, 377, 432]\n",
    "y_labels = ['0%', '27%', '37%', '64%', '73%']\n",
    "plt.yticks(y_ticks, y_labels)\n",
    "plt.xticks(x_ticks, x_labels)\n",
    "\n",
    "plt.subplot(1, 2, 2)\n",
    "plt.hist(sample, width=1, bins=range(3), edgecolor='black', color='orange', alpha=.5, align='left')\n",
    "plt.title('Sample: 592 Statistics Students')\n",
    "y_ticks = [0,160, 215, 377, 432]\n",
    "y_labels = ['0%', '27%', '37%', '64%', '73%']\n",
    "plt.yticks(y_ticks, y_labels)\n",
    "plt.xticks(x_ticks, x_labels)\n",
    "plt.axhline(y=.27*592, color=\"darkgray\")\n",
    "plt.show()"
   ]
  },
  {
   "cell_type": "markdown",
   "metadata": {},
   "source": [
    "Cases for hypothesis testing\n",
    "\n",
    "1. Do those who churn spend more than those who do not churn? \n",
    "- Are customers with Fiber more likely to churn that those without?\n",
    "- Are sr. citizens more likely to churn?\n",
    "- Are students in stats class more likely to have blue eyes than students not taking stats? \n",
    "- Are customers without autopayment more likely to churn? \n",
    "- Do customers who churn have lower tenure? \n",
    "- Is there a linear relationship between tenure and total charges? \n",
    "- Is there a linear relationship between tenure and average monthly charges? "
   ]
  },
  {
   "cell_type": "markdown",
   "metadata": {},
   "source": [
    "The variables\n",
    "1. churn (boolean), average_monthly_charges (continuous/numeric)\n",
    "2. churn (boolean), has_fiber (boolean)\n",
    "3. churn (boolean), is_senior (boolean)\n",
    "4. eye_color (categorical), in_stats (boolean)\n",
    "5. churn (boolean), has_autopayment (boolean)\n",
    "6. churn (boolean), tenure (numeric)\n",
    "7. tenure (numeric), total_charges (numeric)\n",
    "8. tenure (numeric), avg_monththly_charges (numeric)"
   ]
  },
  {
   "cell_type": "markdown",
   "metadata": {},
   "source": [
    "The data types\n",
    "1. boolean x numeric\n",
    "2. boolean x boolean\n",
    "3. boolean x boolean\n",
    "4. categorical x boolean\n",
    "5. boolean x boolean\n",
    "6. boolean x numeric\n",
    "7. numeric x numeric\n",
    "8. numeric x numeric"
   ]
  },
  {
   "cell_type": "markdown",
   "metadata": {},
   "source": [
    "The types of tests\n",
    "\n",
    "1. comparison of means (t-test) across the 2 groups (churned customers vs. not churned customers)\n",
    "2. comparison of proportions/relationships (chi-square)\n",
    "3. comparison of proportions/relationships (chi-square)\n",
    "4. comparison of proportions/relationships (chi-square)\n",
    "5. comparison of proportions/relationships (chi-square)\n",
    "6. comparison of means (t-test) across the 2 groups (churned customers vs. not churned customers)\n",
    "7. linear correlation between two continuous values, does one affect the other. (pearson's correlation)\n",
    "8. linear correlation between two continuous values, does one affect the other. (pearson's correlation)"
   ]
  },
  {
   "cell_type": "markdown",
   "metadata": {},
   "source": [
    "**Null Hypothesis:** $H_{0}$\n",
    "\n",
    "the \"default\", no difference, no change, no effect. \n",
    "\n",
    "**Alternative Hypothesis:** $H_{a}$\n",
    "\n",
    "Generally what your hypothesis is, that there is a difference, an effect, etc. \n"
   ]
  },
  {
   "cell_type": "markdown",
   "metadata": {},
   "source": [
    "1. Do those who churn spend a different amount than those who do not churn?\n",
    "\n",
    "> $H_{0}$: avg spend for those who churn == avg spend for those who don't. \n",
    "\n",
    "> $H_{a}$: avg spend for thos who churn != avg spend for those who don't. \n",
    "\n",
    "t-test, p-value < .05\n",
    "\n",
    "1a. Do those who churn spend more than those who do not churn?\n",
    "\n",
    "\n",
    "$H_{0}$: avg spend for those who churn <= avg spend for those who don't. \n",
    "\n",
    "$H_{a}$: avg spend for thos who churn > avg spend for those who don't. \n",
    "\n",
    "2. Are customers with Fiber more or less likely to churn that those without?\n",
    "\n",
    "$H_{0}$: Customers with Fiber are equally likely to churn than those without. \n",
    "\n",
    "$H_{a}$: Customers with fiber are more or less likely to churn than those without. \n",
    "\n",
    "2a. Are customers with Fiber more likely to churn that those without?\n",
    "\n",
    "$H_{0}$: Customers with Fiber are less or equally likely to churn than those without. \n",
    "\n",
    "$H_{a}$: Customers with Fiber are more likely to churn than those without. \n",
    "\n",
    "3. Are sr. citizens more likely to churn?\n",
    "\n",
    "$H_{0}$: Sr. are less or equally likely to churn than non-sr.\n",
    "\n",
    "$H_{a}$: Sr. are more likely to churn than non-sr.\n",
    "\n",
    "4. Are students in stats class more likely to have blue eyes than students not taking stats?\n",
    "\n",
    "5. Are customers without autopayment more likely to churn?\n",
    "\n",
    "6. Do customers who churn have lower tenure?\n",
    "\n",
    "$H_{0}$: customers who churn have greater or equal tenure than those who don't. \n",
    "\n",
    "$H_{a}$: customers who churn have lower tenure. \n",
    "\n",
    "7. Is there a linear relationship between tenure and total charges?\n",
    "\n",
    "$H_{0}$: There is no linear relationship b/w tenure and total charges. \n",
    "\n",
    "$H_{a}$: There is a linear relationship b/w tenure and total charges. \n",
    "\n",
    "8. Is there a linear relationship between tenure and average monthly charges?"
   ]
  },
  {
   "cell_type": "markdown",
   "metadata": {},
   "source": [
    "1. id the question\n",
    "2. state the hypotheses\n",
    "3. validate assumptions\n",
    "4. run our test, set our significance level, $\\alpha$\n",
    "5. get results: test statistic & p-value\n",
    "6. evaluate results and draw conclusions\n"
   ]
  },
  {
   "cell_type": "markdown",
   "metadata": {},
   "source": [
    "### Key terms\n",
    "\n",
    "**p-value:** probability that we observed this result due to chance. if it's less than our alpha, we reject the null hypothesis...there IS a difference, or a relationship. \n",
    "\n",
    "**False Negative Rate:** P(FN) = P(Type II Error)\n",
    "False Negative: Failing to reject null hypothesis when it is false. \n",
    "i.e. there is a difference but test told you otherwise. \n",
    "\n",
    "**False Positive Rate:** P(FP) = P(Type I Error)\n",
    "False Positive: Said there was a difference where there wasn't. \n",
    "Alpha is your false positive rate. \n"
   ]
  },
  {
   "cell_type": "code",
   "execution_count": null,
   "metadata": {},
   "outputs": [],
   "source": []
  }
 ],
 "metadata": {
  "kernelspec": {
   "display_name": "Python 3",
   "language": "python",
   "name": "python3"
  },
  "language_info": {
   "codemirror_mode": {
    "name": "ipython",
    "version": 3
   },
   "file_extension": ".py",
   "mimetype": "text/x-python",
   "name": "python",
   "nbconvert_exporter": "python",
   "pygments_lexer": "ipython3",
   "version": "3.6.8"
  }
 },
 "nbformat": 4,
 "nbformat_minor": 2
}
